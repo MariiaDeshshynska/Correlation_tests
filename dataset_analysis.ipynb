{
 "cells": [
  {
   "cell_type": "code",
   "execution_count": 1,
   "metadata": {},
   "outputs": [],
   "source": [
    "import pandas as pd\n",
    "import numpy as np\n",
    "from scipy import stats\n",
    "\n",
    "from scipy.stats import pearsonr\n",
    "from scipy.stats import spearmanr\n",
    "from scipy.stats import kendalltau\n",
    "from scipy.stats import chi2_contingency\n",
    "import seaborn as sns\n",
    "import matplotlib.pyplot as plt\n",
    "# for min_max scaling\n",
    "from sklearn.preprocessing import MinMaxScaler\n"
   ]
  },
  {
   "cell_type": "code",
   "execution_count": 2,
   "metadata": {},
   "outputs": [
    {
     "data": {
      "text/html": [
       "<div>\n",
       "<style scoped>\n",
       "    .dataframe tbody tr th:only-of-type {\n",
       "        vertical-align: middle;\n",
       "    }\n",
       "\n",
       "    .dataframe tbody tr th {\n",
       "        vertical-align: top;\n",
       "    }\n",
       "\n",
       "    .dataframe thead th {\n",
       "        text-align: right;\n",
       "    }\n",
       "</style>\n",
       "<table border=\"1\" class=\"dataframe\">\n",
       "  <thead>\n",
       "    <tr style=\"text-align: right;\">\n",
       "      <th></th>\n",
       "      <th>target</th>\n",
       "      <th>c1</th>\n",
       "      <th>c2</th>\n",
       "      <th>c3</th>\n",
       "      <th>c4</th>\n",
       "      <th>c5</th>\n",
       "      <th>c6</th>\n",
       "      <th>c7</th>\n",
       "      <th>c8</th>\n",
       "      <th>c9</th>\n",
       "      <th>c10</th>\n",
       "      <th>c11</th>\n",
       "      <th>c12</th>\n",
       "      <th>c13</th>\n",
       "    </tr>\n",
       "  </thead>\n",
       "  <tbody>\n",
       "    <tr>\n",
       "      <th>0</th>\n",
       "      <td>0.0</td>\n",
       "      <td>0.6</td>\n",
       "      <td>3.848024360038754</td>\n",
       "      <td>-0.12489928599664912</td>\n",
       "      <td>-0.876288</td>\n",
       "      <td>a</td>\n",
       "      <td>0.0</td>\n",
       "      <td>1.0</td>\n",
       "      <td>0.0</td>\n",
       "      <td>-1.4022953844807486</td>\n",
       "      <td>996.8002935258253</td>\n",
       "      <td>2019-07-03</td>\n",
       "      <td>qq</td>\n",
       "      <td>q</td>\n",
       "    </tr>\n",
       "    <tr>\n",
       "      <th>1</th>\n",
       "      <td>0.0</td>\n",
       "      <td>-9999.0</td>\n",
       "      <td>3.686711750399645</td>\n",
       "      <td>2.7465579865302554</td>\n",
       "      <td>-16840.562852</td>\n",
       "      <td>fr</td>\n",
       "      <td>0.0</td>\n",
       "      <td>_</td>\n",
       "      <td>0.0</td>\n",
       "      <td>-3.0501812364863525</td>\n",
       "      <td>998.0628287070417</td>\n",
       "      <td>2019-04-12</td>\n",
       "      <td>cc</td>\n",
       "      <td>r</td>\n",
       "    </tr>\n",
       "    <tr>\n",
       "      <th>2</th>\n",
       "      <td>1.0</td>\n",
       "      <td>0.6</td>\n",
       "      <td>1.7903405757001267</td>\n",
       "      <td>-0.3791833083216618</td>\n",
       "      <td>1.115662</td>\n",
       "      <td>w</td>\n",
       "      <td>1.0</td>\n",
       "      <td>4.0</td>\n",
       "      <td>inf</td>\n",
       "      <td>inf</td>\n",
       "      <td>997.5618023143123</td>\n",
       "      <td>2019-09-30</td>\n",
       "      <td>aa</td>\n",
       "      <td>t</td>\n",
       "    </tr>\n",
       "    <tr>\n",
       "      <th>3</th>\n",
       "      <td>0.0</td>\n",
       "      <td>0.3</td>\n",
       "      <td>2.1368573082176185</td>\n",
       "      <td>1.8436547163343175</td>\n",
       "      <td>-2.593336</td>\n",
       "      <td>w</td>\n",
       "      <td>0.0</td>\n",
       "      <td>1.0</td>\n",
       "      <td>0.0</td>\n",
       "      <td>-0.8521568609928067</td>\n",
       "      <td>998.0647328947183</td>\n",
       "      <td>2019-06-11</td>\n",
       "      <td>dd</td>\n",
       "      <td>u</td>\n",
       "    </tr>\n",
       "    <tr>\n",
       "      <th>4</th>\n",
       "      <td>0.0</td>\n",
       "      <td>0.3</td>\n",
       "      <td>3.3008362240888207</td>\n",
       "      <td>1.492122687471352</td>\n",
       "      <td>-3.033777</td>\n",
       "      <td>f</td>\n",
       "      <td>0.0</td>\n",
       "      <td>3.0</td>\n",
       "      <td>0.0</td>\n",
       "      <td>-0.8116829603342575</td>\n",
       "      <td>1000.64857852335</td>\n",
       "      <td>2019-06-18</td>\n",
       "      <td>_</td>\n",
       "      <td>y</td>\n",
       "    </tr>\n",
       "    <tr>\n",
       "      <th>...</th>\n",
       "      <td>...</td>\n",
       "      <td>...</td>\n",
       "      <td>...</td>\n",
       "      <td>...</td>\n",
       "      <td>...</td>\n",
       "      <td>...</td>\n",
       "      <td>...</td>\n",
       "      <td>...</td>\n",
       "      <td>...</td>\n",
       "      <td>...</td>\n",
       "      <td>...</td>\n",
       "      <td>...</td>\n",
       "      <td>...</td>\n",
       "      <td>...</td>\n",
       "    </tr>\n",
       "    <tr>\n",
       "      <th>999995</th>\n",
       "      <td>1.0</td>\n",
       "      <td>0.2</td>\n",
       "      <td>2.7723286859391183</td>\n",
       "      <td>0.3152747929660493</td>\n",
       "      <td>-1.702342</td>\n",
       "      <td>fr</td>\n",
       "      <td>1.0</td>\n",
       "      <td>1.0</td>\n",
       "      <td>0.0</td>\n",
       "      <td>-0.14354151127228287</td>\n",
       "      <td>997.3675673334745</td>\n",
       "      <td>2019-12-07</td>\n",
       "      <td>ee</td>\n",
       "      <td>y</td>\n",
       "    </tr>\n",
       "    <tr>\n",
       "      <th>999996</th>\n",
       "      <td>0.0</td>\n",
       "      <td>0.1</td>\n",
       "      <td>inf</td>\n",
       "      <td>inf</td>\n",
       "      <td>-3.269701</td>\n",
       "      <td>a</td>\n",
       "      <td>0.0</td>\n",
       "      <td>3.0</td>\n",
       "      <td>0.0</td>\n",
       "      <td>0.25436082043745145</td>\n",
       "      <td>997.3932479492224</td>\n",
       "      <td>2019-03-22</td>\n",
       "      <td>ww</td>\n",
       "      <td>r</td>\n",
       "    </tr>\n",
       "    <tr>\n",
       "      <th>999997</th>\n",
       "      <td>0.0</td>\n",
       "      <td>0.5</td>\n",
       "      <td>inf</td>\n",
       "      <td>inf</td>\n",
       "      <td>-2.049132</td>\n",
       "      <td>f</td>\n",
       "      <td>0.0</td>\n",
       "      <td>1.0</td>\n",
       "      <td>-inf</td>\n",
       "      <td>-inf</td>\n",
       "      <td>999.2696619850115</td>\n",
       "      <td>2019-07-18</td>\n",
       "      <td>qq</td>\n",
       "      <td>o</td>\n",
       "    </tr>\n",
       "    <tr>\n",
       "      <th>999998</th>\n",
       "      <td>0.0</td>\n",
       "      <td>0.9</td>\n",
       "      <td>1.0094653348000295</td>\n",
       "      <td>-0.19162749567540516</td>\n",
       "      <td>-1.001801</td>\n",
       "      <td>d</td>\n",
       "      <td>0.0</td>\n",
       "      <td>2.0</td>\n",
       "      <td>1.0</td>\n",
       "      <td>1.6931139459978009</td>\n",
       "      <td>997.5339302673746</td>\n",
       "      <td>2019-10-04</td>\n",
       "      <td>yy</td>\n",
       "      <td>r</td>\n",
       "    </tr>\n",
       "    <tr>\n",
       "      <th>999999</th>\n",
       "      <td>1.0</td>\n",
       "      <td>0.3</td>\n",
       "      <td>1.8487116575771474</td>\n",
       "      <td>-0.3196058449170467</td>\n",
       "      <td>-0.003627</td>\n",
       "      <td>a</td>\n",
       "      <td>1.0</td>\n",
       "      <td>1.0</td>\n",
       "      <td>-1.0</td>\n",
       "      <td>-1.8913900139639952</td>\n",
       "      <td>999.6925599702948</td>\n",
       "      <td>2019-05-19</td>\n",
       "      <td>_</td>\n",
       "      <td>u</td>\n",
       "    </tr>\n",
       "  </tbody>\n",
       "</table>\n",
       "<p>1000000 rows × 14 columns</p>\n",
       "</div>"
      ],
      "text/plain": [
       "       target      c1                  c2                    c3            c4  \\\n",
       "0         0.0     0.6   3.848024360038754  -0.12489928599664912     -0.876288   \n",
       "1         0.0 -9999.0   3.686711750399645    2.7465579865302554 -16840.562852   \n",
       "2         1.0     0.6  1.7903405757001267   -0.3791833083216618      1.115662   \n",
       "3         0.0     0.3  2.1368573082176185    1.8436547163343175     -2.593336   \n",
       "4         0.0     0.3  3.3008362240888207     1.492122687471352     -3.033777   \n",
       "...       ...     ...                 ...                   ...           ...   \n",
       "999995    1.0     0.2  2.7723286859391183    0.3152747929660493     -1.702342   \n",
       "999996    0.0     0.1                 inf                   inf     -3.269701   \n",
       "999997    0.0     0.5                 inf                   inf     -2.049132   \n",
       "999998    0.0     0.9  1.0094653348000295  -0.19162749567540516     -1.001801   \n",
       "999999    1.0     0.3  1.8487116575771474   -0.3196058449170467     -0.003627   \n",
       "\n",
       "        c5   c6   c7    c8                    c9                c10  \\\n",
       "0        a  0.0  1.0   0.0   -1.4022953844807486  996.8002935258253   \n",
       "1       fr  0.0    _   0.0   -3.0501812364863525  998.0628287070417   \n",
       "2        w  1.0  4.0   inf                   inf  997.5618023143123   \n",
       "3        w  0.0  1.0   0.0   -0.8521568609928067  998.0647328947183   \n",
       "4        f  0.0  3.0   0.0   -0.8116829603342575   1000.64857852335   \n",
       "...     ..  ...  ...   ...                   ...                ...   \n",
       "999995  fr  1.0  1.0   0.0  -0.14354151127228287  997.3675673334745   \n",
       "999996   a  0.0  3.0   0.0   0.25436082043745145  997.3932479492224   \n",
       "999997   f  0.0  1.0  -inf                  -inf  999.2696619850115   \n",
       "999998   d  0.0  2.0   1.0    1.6931139459978009  997.5339302673746   \n",
       "999999   a  1.0  1.0  -1.0   -1.8913900139639952  999.6925599702948   \n",
       "\n",
       "               c11 c12 c13  \n",
       "0       2019-07-03  qq   q  \n",
       "1       2019-04-12  cc   r  \n",
       "2       2019-09-30  aa   t  \n",
       "3       2019-06-11  dd   u  \n",
       "4       2019-06-18   _   y  \n",
       "...            ...  ..  ..  \n",
       "999995  2019-12-07  ee   y  \n",
       "999996  2019-03-22  ww   r  \n",
       "999997  2019-07-18  qq   o  \n",
       "999998  2019-10-04  yy   r  \n",
       "999999  2019-05-19   _   u  \n",
       "\n",
       "[1000000 rows x 14 columns]"
      ]
     },
     "execution_count": 2,
     "metadata": {},
     "output_type": "execute_result"
    }
   ],
   "source": [
    "data = pd.read_csv('data.csv', delimiter='}', encoding=\"UTF-16\") \n",
    "data"
   ]
  },
  {
   "cell_type": "code",
   "execution_count": 3,
   "metadata": {},
   "outputs": [
    {
     "data": {
      "text/plain": [
       "target    0\n",
       "c1        0\n",
       "c2        0\n",
       "c3        0\n",
       "c4        0\n",
       "c5        0\n",
       "c6        0\n",
       "c7        0\n",
       "c8        0\n",
       "c9        0\n",
       "c10       0\n",
       "c11       0\n",
       "c12       0\n",
       "c13       0\n",
       "dtype: int64"
      ]
     },
     "execution_count": 3,
     "metadata": {},
     "output_type": "execute_result"
    }
   ],
   "source": [
    "#find out if there are any missing values and their possible sum\n",
    "missing_values_count = data.isna().sum()\n",
    "missing_values_count "
   ]
  },
  {
   "cell_type": "code",
   "execution_count": 4,
   "metadata": {},
   "outputs": [
    {
     "data": {
      "text/plain": [
       "target    0\n",
       "c1        0\n",
       "c2        0\n",
       "c3        0\n",
       "c4        0\n",
       "c5        0\n",
       "c6        0\n",
       "c7        0\n",
       "c8        0\n",
       "c9        0\n",
       "c10       0\n",
       "c11       0\n",
       "c12       0\n",
       "c13       0\n",
       "dtype: int64"
      ]
     },
     "execution_count": 4,
     "metadata": {},
     "output_type": "execute_result"
    }
   ],
   "source": [
    "data.isnull().sum()"
   ]
  },
  {
   "cell_type": "code",
   "execution_count": 5,
   "metadata": {},
   "outputs": [
    {
     "name": "stdout",
     "output_type": "stream",
     "text": [
      "<class 'pandas.core.frame.DataFrame'>\n",
      "RangeIndex: 1000000 entries, 0 to 999999\n",
      "Data columns (total 14 columns):\n",
      " #   Column  Non-Null Count    Dtype  \n",
      "---  ------  --------------    -----  \n",
      " 0   target  1000000 non-null  object \n",
      " 1   c1      1000000 non-null  float64\n",
      " 2   c2      1000000 non-null  object \n",
      " 3   c3      1000000 non-null  object \n",
      " 4   c4      1000000 non-null  float64\n",
      " 5   c5      1000000 non-null  object \n",
      " 6   c6      1000000 non-null  object \n",
      " 7   c7      1000000 non-null  object \n",
      " 8   c8      1000000 non-null  object \n",
      " 9   c9      1000000 non-null  object \n",
      " 10  c10     1000000 non-null  object \n",
      " 11  c11     1000000 non-null  object \n",
      " 12  c12     1000000 non-null  object \n",
      " 13  c13     1000000 non-null  object \n",
      "dtypes: float64(2), object(12)\n",
      "memory usage: 106.8+ MB\n"
     ]
    }
   ],
   "source": [
    "#get all the info of dataset\n",
    "data.info()"
   ]
  },
  {
   "cell_type": "markdown",
   "metadata": {},
   "source": [
    "So there is no obvious NaN values in our dataset, only two columns with fully numerical (float64) data.\n",
    "Also we can observe non-numerical values such as \"inf\" or \"_\" in target and other columns.\n",
    "We should convert not-fully numerical colums into numerical ones."
   ]
  },
  {
   "cell_type": "code",
   "execution_count": 6,
   "metadata": {},
   "outputs": [
    {
     "data": {
      "text/plain": [
       "<AxesSubplot:>"
      ]
     },
     "execution_count": 6,
     "metadata": {},
     "output_type": "execute_result"
    },
    {
     "data": {
      "image/png": "[encoded data removed]",
      "text/plain": [
       "<Figure size 432x288 with 3 Axes>"
      ]
     },
     "metadata": {
      "needs_background": "light"
     },
     "output_type": "display_data"
    }
   ],
   "source": [
    "#to find out and visualize what columns contain inf data, we will use data visualization, where yellow indicates inf presence\n",
    "cols = data.columns[:14] # 14 columns\n",
    "colours = ['#000099', '#ffff00'] # specify the colours - yellow has -inf. blue is other values.\n",
    "sns.heatmap(data[cols]=='-inf', cmap=sns.color_palette(colours))\n",
    "sns.heatmap(data[cols]=='inf', cmap=sns.color_palette(colours))"
   ]
  },
  {
   "cell_type": "code",
   "execution_count": 7,
   "metadata": {},
   "outputs": [
    {
     "data": {
      "text/plain": [
       "<AxesSubplot:>"
      ]
     },
     "execution_count": 7,
     "metadata": {},
     "output_type": "execute_result"
    },
    {
     "data": {
      "image/png": "[encoded data removed]",
      "text/plain": [
       "<Figure size 432x288 with 2 Axes>"
      ]
     },
     "metadata": {
      "needs_background": "light"
     },
     "output_type": "display_data"
    }
   ],
   "source": [
    "#to find out and visualize \"_\", where yellow indicates \"_\" presence\n",
    "cols = data.columns[:14] # first 14 columns\n",
    "colours = ['#000099', '#ffff00'] # specify the colours - yellow has -inf. blue is other values.\n",
    "sns.heatmap(data[cols]=='_', cmap=sns.color_palette(colours))"
   ]
  },
  {
   "cell_type": "markdown",
   "metadata": {},
   "source": [
    "<h3 align='center'>Observing columns data distribution</h3>"
   ]
  },
  {
   "cell_type": "code",
   "execution_count": 8,
   "metadata": {},
   "outputs": [],
   "source": [
    "#function for making plot for each column\n",
    "def make_plot(col_name, type='bar'):\n",
    "    print(data[col_name].value_counts())\n",
    "    plt.figure(figsize=(10,5))\n",
    "    data[col_name].value_counts(normalize=True).plot(kind=type)\n",
    "    plt.ylabel('counts')\n",
    "    plt.xlabel(col_name)\n",
    "    plt.plot()\n",
    "    "
   ]
  },
  {
   "cell_type": "markdown",
   "metadata": {},
   "source": [
    "<h4 align='center'>Target column</h4>"
   ]
  },
  {
   "cell_type": "code",
   "execution_count": 9,
   "metadata": {},
   "outputs": [
    {
     "name": "stdout",
     "output_type": "stream",
     "text": [
      "0.0    700383\n",
      "1.0    200486\n",
      "_       99131\n",
      "Name: target, dtype: int64\n"
     ]
    },
    {
     "data": {
      "image/png": "[encoded data removed]",
      "text/plain": [
       "<Figure size 720x360 with 1 Axes>"
      ]
     },
     "metadata": {
      "needs_background": "light"
     },
     "output_type": "display_data"
    }
   ],
   "source": [
    "make_plot('target')"
   ]
  },
  {
   "cell_type": "markdown",
   "metadata": {},
   "source": [
    "As we have missing values in 'target', we should obviously drop these rows"
   ]
  },
  {
   "cell_type": "code",
   "execution_count": 10,
   "metadata": {},
   "outputs": [],
   "source": [
    "data.drop(data.loc[data['target']=='_'].index, inplace=True)"
   ]
  },
  {
   "cell_type": "markdown",
   "metadata": {},
   "source": [
    "<h4 align='center'>c1</h4>"
   ]
  },
  {
   "cell_type": "code",
   "execution_count": 11,
   "metadata": {},
   "outputs": [
    {
     "name": "stdout",
     "output_type": "stream",
     "text": [
      " 0.3       90560\n",
      " 0.7       90414\n",
      " 0.2       90184\n",
      " 0.8       90157\n",
      "-9999.0    90075\n",
      " 0.5       90072\n",
      " 0.6       90064\n",
      " 0.4       89965\n",
      " 0.1       89694\n",
      " 0.9       89684\n",
      "Name: c1, dtype: int64\n"
     ]
    },
    {
     "data": {
      "image/png": "[encoded data removed]",
      "text/plain": [
       "<Figure size 720x360 with 1 Axes>"
      ]
     },
     "metadata": {
      "needs_background": "light"
     },
     "output_type": "display_data"
    }
   ],
   "source": [
    "make_plot('c1')"
   ]
  },
  {
   "cell_type": "markdown",
   "metadata": {},
   "source": [
    "We may observe that -9999.0 is the substitute for missing values. \n",
    "So we can 1) check correlation between target and c1 with such missing values 2) without -9999.0"
   ]
  },
  {
   "cell_type": "code",
   "execution_count": 12,
   "metadata": {},
   "outputs": [],
   "source": [
    "# Pearson's Correlation test function\n",
    "def pearson_corr(col_name, dataset = data):\n",
    "    data1 = pd.to_numeric(dataset['target'])\n",
    "    data2 = dataset[col_name]\n",
    "    stat, p = pearsonr(data1, data2)\n",
    "    print('stat=%.3f, p=%.3f' % (stat, p))\n",
    "    if p > 0.05:\n",
    "        print('Probably independent')\n",
    "    else:\n",
    "        print('Probably dependent')"
   ]
  },
  {
   "cell_type": "code",
   "execution_count": 13,
   "metadata": {},
   "outputs": [],
   "source": [
    "# Spearman's Rank Correlation Test function\n",
    "def spearman_corr(col_name, dataset = data):\n",
    "\tdata1 = pd.to_numeric(dataset['target'])\n",
    "\tdata2 = dataset[col_name]\n",
    "\tstat, p = spearmanr(data1, data2)\n",
    "\tprint('stat=%.3f, p=%.3f' % (stat, p))\n",
    "\tif p > 0.05:\n",
    "\t\tprint('Probably independent')\n",
    "\telse:\n",
    "\t\tprint('Probably dependent')"
   ]
  },
  {
   "cell_type": "code",
   "execution_count": 14,
   "metadata": {},
   "outputs": [],
   "source": [
    "# Chi-Squared Test function\n",
    "def chi_corr(col_name, dataset = data):\n",
    "\ttable = [pd.to_numeric(dataset['target']), pd.to_numeric(dataset[col_name])]\n",
    "\tstat, p, dof, expected = chi2_contingency(table)\n",
    "\tprint('stat=%.3f, p=%.3f' % (stat, p))\n",
    "\tif p > 0.05:\n",
    "\t\tprint('Probably independent')\n",
    "\telse:\n",
    "\t\tprint('Probably dependent')"
   ]
  },
  {
   "cell_type": "code",
   "execution_count": 15,
   "metadata": {},
   "outputs": [],
   "source": [
    "#without -9999.0\n",
    "data_c1 = data.drop(data.loc[data['c1']==-9999.0].index)"
   ]
  },
  {
   "cell_type": "code",
   "execution_count": 16,
   "metadata": {},
   "outputs": [
    {
     "name": "stdout",
     "output_type": "stream",
     "text": [
      "Pearson's Correlation test with missing values\n",
      "stat=-0.000, p=0.767\n",
      "Probably independent\n",
      "Pearson's Correlation test without missing values\n",
      "stat=-0.001, p=0.602\n",
      "Probably independent\n",
      "Spearman's Rank Correlation test with missing values\n",
      "stat=-0.001, p=0.549\n",
      "Probably independent\n",
      "Spearman's Rank Correlation without missing values\n",
      "stat=-0.001, p=0.602\n",
      "Probably independent\n",
      "Chi-Squared test\n",
      "stat=321341.329, p=1.000\n",
      "Probably independent\n"
     ]
    }
   ],
   "source": [
    "print(\"Pearson's Correlation test with missing values\")\n",
    "pearson_corr('c1')\n",
    "print(\"Pearson's Correlation test without missing values\")\n",
    "pearson_corr('c1', data_c1)\n",
    "\n",
    "print(\"Spearman's Rank Correlation test with missing values\")\n",
    "spearman_corr('c1')\n",
    "print(\"Spearman's Rank Correlation without missing values\")\n",
    "spearman_corr('c1', data_c1)\n",
    "\n",
    "print(\"Chi-Squared test\")\n",
    "chi_corr('c1', data_c1)"
   ]
  },
  {
   "cell_type": "markdown",
   "metadata": {},
   "source": [
    "So, we should drop this column from the dataset"
   ]
  },
  {
   "cell_type": "markdown",
   "metadata": {},
   "source": [
    "<h4 align='center'>c2</h4>"
   ]
  },
  {
   "cell_type": "code",
   "execution_count": 17,
   "metadata": {},
   "outputs": [
    {
     "name": "stdout",
     "output_type": "stream",
     "text": [
      "inf                   53705\n",
      "-inf                  18168\n",
      "_                     18067\n",
      "3.848024360038754         1\n",
      "2.377579712128918         1\n",
      "                      ...  \n",
      "1.6017666274767692        1\n",
      "3.3786542306331118        1\n",
      "2.746859400102414         1\n",
      "3.846121594797114         1\n",
      "1.8487116575771474        1\n",
      "Name: c2, Length: 810932, dtype: int64\n"
     ]
    },
    {
     "data": {
      "image/png": "[encoded data removed]",
      "text/plain": [
       "<Figure size 720x360 with 1 Axes>"
      ]
     },
     "metadata": {
      "needs_background": "light"
     },
     "output_type": "display_data"
    }
   ],
   "source": [
    "make_plot('c2', 'line')\n"
   ]
  },
  {
   "cell_type": "markdown",
   "metadata": {},
   "source": [
    "For conducting statistical test, we should drop missing values from the column"
   ]
  },
  {
   "cell_type": "code",
   "execution_count": 18,
   "metadata": {},
   "outputs": [
    {
     "data": {
      "text/plain": [
       "3.848024360038754     1\n",
       "3.4962168321079936    1\n",
       "3.3423928112720644    1\n",
       "3.3150851132279096    1\n",
       "1.3226113637249024    1\n",
       "                     ..\n",
       "1.6017666274767692    1\n",
       "3.3786542306331118    1\n",
       "2.746859400102414     1\n",
       "3.846121594797114     1\n",
       "1.8487116575771474    1\n",
       "Name: c2, Length: 810929, dtype: int64"
      ]
     },
     "execution_count": 18,
     "metadata": {},
     "output_type": "execute_result"
    }
   ],
   "source": [
    "data_c2 = data.drop(data.loc[data['c2']=='_'].index)\n",
    "inf_filt = (data_c2['c2'] != 'inf') & (data_c2['c2']!='-inf')\n",
    "data_c2= data_c2.loc[inf_filt]\n",
    "data_c2['c2'].value_counts()"
   ]
  },
  {
   "cell_type": "code",
   "execution_count": 19,
   "metadata": {},
   "outputs": [
    {
     "data": {
      "text/plain": [
       "0         0.949342\n",
       "1         0.895571\n",
       "2         0.263446\n",
       "3         0.378952\n",
       "4         0.766946\n",
       "            ...   \n",
       "999991    0.513372\n",
       "999992    0.696945\n",
       "999995    0.590776\n",
       "999998    0.003153\n",
       "999999    0.282903\n",
       "Name: c2, Length: 810929, dtype: float64"
      ]
     },
     "execution_count": 19,
     "metadata": {},
     "output_type": "execute_result"
    }
   ],
   "source": [
    "#normalize c2\n",
    "(pd.to_numeric(data_c2['c2']) - pd.to_numeric(data_c2['c2'].min())) / (pd.to_numeric(data_c2['c2'].max()) - pd.to_numeric(data_c2['c2'].min()))"
   ]
  },
  {
   "cell_type": "code",
   "execution_count": 20,
   "metadata": {},
   "outputs": [],
   "source": [
    "#function for conducting correlation tests\n",
    "def correl_tests (col_name, dataset=data, num_arr=[]):\n",
    "    filt_arr = []\n",
    "    if (np.array_equal(num_arr, filt_arr)):\n",
    "        num_arr= pd.to_numeric(dataset[col_name])\n",
    "    data1 = pd.to_numeric(dataset['target'])\n",
    "    data2 = num_arr\n",
    "    print(\"Pearson's Correlation Test\")\n",
    "    stat, p = pearsonr(data1, data2)\n",
    "    print('stat=%.3f, p=%.3f' % (stat, p))\n",
    "    if p > 0.05:\n",
    "        print('Probably independent')\n",
    "    else:\n",
    "        print('Probably dependent')\n",
    "    print(\"Spearman's Rank Correlation Test\")\n",
    "    stat, p = spearmanr(data1, data2)\n",
    "    print('stat=%.3f, p=%.3f' % (stat, p))\n",
    "    if p > 0.05:\n",
    "\t    print('Probably independent')\n",
    "    else:\n",
    "\t    print('Probably dependent')\n",
    "    print(\"Kendall’s Rank Correlation Test\")   \n",
    "    stat, p = kendalltau(data1, data2)\n",
    "    print('stat=%.3f, p=%.3f' % (stat, p))\n",
    "    if p > 0.05:\n",
    "\t    print('Probably independent')\n",
    "    else:\n",
    "\t    print('Probably dependent')"
   ]
  },
  {
   "cell_type": "code",
   "execution_count": 21,
   "metadata": {},
   "outputs": [
    {
     "name": "stdout",
     "output_type": "stream",
     "text": [
      "Pearson's Correlation Test\n",
      "stat=0.001, p=0.568\n",
      "Probably independent\n",
      "Spearman's Rank Correlation Test\n",
      "stat=0.001, p=0.569\n",
      "Probably independent\n",
      "Kendall’s Rank Correlation Test\n",
      "stat=0.001, p=0.569\n",
      "Probably independent\n"
     ]
    }
   ],
   "source": [
    "correl_tests('c2', data_c2)"
   ]
  },
  {
   "cell_type": "code",
   "execution_count": 22,
   "metadata": {},
   "outputs": [
    {
     "name": "stdout",
     "output_type": "stream",
     "text": [
      "stat=537556.080, p=1.000\n",
      "Probably independent\n"
     ]
    }
   ],
   "source": [
    "chi_corr('c2', data_c2)"
   ]
  },
  {
   "cell_type": "markdown",
   "metadata": {},
   "source": [
    "So, we should drop this column from the dataset"
   ]
  },
  {
   "cell_type": "markdown",
   "metadata": {},
   "source": [
    "<h4 align='center'>c3</h4>"
   ]
  },
  {
   "cell_type": "code",
   "execution_count": 23,
   "metadata": {},
   "outputs": [
    {
     "name": "stdout",
     "output_type": "stream",
     "text": [
      "inf                     53705\n",
      "-inf                    18168\n",
      "_                       18067\n",
      "-0.12489928599664912        1\n",
      "2.1269779692610187          1\n",
      "                        ...  \n",
      "-2.9393222516006237         1\n",
      "1.7188109618191807          1\n",
      "1.2192488127677694          1\n",
      "0.4330490423852811          1\n",
      "-0.3196058449170467         1\n",
      "Name: c3, Length: 810932, dtype: int64\n"
     ]
    },
    {
     "data": {
      "image/png": "[encoded data removed]",
      "text/plain": [
       "<Figure size 720x360 with 1 Axes>"
      ]
     },
     "metadata": {
      "needs_background": "light"
     },
     "output_type": "display_data"
    }
   ],
   "source": [
    "make_plot('c3', 'line')"
   ]
  },
  {
   "cell_type": "code",
   "execution_count": 24,
   "metadata": {},
   "outputs": [
    {
     "data": {
      "text/plain": [
       "-0.12489928599664912    1\n",
       "0.2859699481058606      1\n",
       "1.9172070176576632      1\n",
       "1.3596228421196344      1\n",
       "-0.24973878869414046    1\n",
       "                       ..\n",
       "-2.9393222516006237     1\n",
       "1.7188109618191807      1\n",
       "1.2192488127677694      1\n",
       "0.4330490423852811      1\n",
       "-0.3196058449170467     1\n",
       "Name: c3, Length: 810929, dtype: int64"
      ]
     },
     "execution_count": 24,
     "metadata": {},
     "output_type": "execute_result"
    }
   ],
   "source": [
    "data_c3 = data.drop(data.loc[data['c3']=='_'].index)\n",
    "inf_filt = (data_c3['c3'] != 'inf') & (data_c3['c3']!='-inf')\n",
    "data_c3= data_c3.loc[inf_filt]\n",
    "data_c3['c3'].value_counts()"
   ]
  },
  {
   "cell_type": "code",
   "execution_count": 25,
   "metadata": {},
   "outputs": [
    {
     "data": {
      "text/plain": [
       "array([[0.35958402],\n",
       "       [0.71958869],\n",
       "       [0.32770354],\n",
       "       ...,\n",
       "       [0.41477019],\n",
       "       [0.35121807],\n",
       "       [0.33517298]])"
      ]
     },
     "execution_count": 25,
     "metadata": {},
     "output_type": "execute_result"
    }
   ],
   "source": [
    "#scaling data in c3 column\n",
    "scaler = MinMaxScaler(feature_range=(0,1))\n",
    "arr= pd.to_numeric(data_c3['c3'])\n",
    "arr = arr.to_numpy()\n",
    "arr = arr.reshape(-1,1)\n",
    "scaled = scaler.fit_transform(arr)\n",
    "scaled"
   ]
  },
  {
   "cell_type": "code",
   "execution_count": 26,
   "metadata": {},
   "outputs": [],
   "source": [
    "#convert scaled array to 1d array and add new column\n",
    "scaled = scaled.flatten()\n",
    "se = pd.Series(scaled)\n",
    "data_c3['c3_new'] = se.values"
   ]
  },
  {
   "cell_type": "code",
   "execution_count": 27,
   "metadata": {},
   "outputs": [
    {
     "name": "stdout",
     "output_type": "stream",
     "text": [
      "Pearson's Correlation Test\n",
      "stat=-0.000, p=0.664\n",
      "Probably independent\n",
      "Spearman's Rank Correlation Test\n",
      "stat=-0.001, p=0.474\n",
      "Probably independent\n",
      "Kendall’s Rank Correlation Test\n",
      "stat=-0.001, p=0.474\n",
      "Probably independent\n"
     ]
    }
   ],
   "source": [
    "correl_tests('c3_new', data_c3)"
   ]
  },
  {
   "cell_type": "markdown",
   "metadata": {},
   "source": [
    "We can also do not drop -inf and inf but change it to -9999.0 and 9999.0 values"
   ]
  },
  {
   "cell_type": "code",
   "execution_count": 28,
   "metadata": {},
   "outputs": [],
   "source": [
    "data_c3_r = data.drop(data.loc[data['c3']=='_'].index)\n",
    "data_c3_r['c3'].replace({\"-inf\": -9999.0, \"inf\": 9999.0}, inplace=True)"
   ]
  },
  {
   "cell_type": "code",
   "execution_count": 29,
   "metadata": {},
   "outputs": [
    {
     "name": "stdout",
     "output_type": "stream",
     "text": [
      "Pearson's Correlation Test\n",
      "stat=-0.000, p=0.880\n",
      "Probably independent\n",
      "Spearman's Rank Correlation Test\n",
      "stat=-0.001, p=0.482\n",
      "Probably independent\n",
      "Kendall’s Rank Correlation Test\n",
      "stat=-0.001, p=0.482\n",
      "Probably independent\n"
     ]
    },
    {
     "name": "stderr",
     "output_type": "stream",
     "text": [
      "C:\\Users\\Maria Anatoliivna\\anaconda3\\lib\\site-packages\\scipy\\stats\\stats.py:4812: RuntimeWarning: overflow encountered in longlong_scalars\n",
      "  (2 * xtie * ytie) / m + x0 * y0 / (9 * m * (size - 2)))\n"
     ]
    }
   ],
   "source": [
    "correl_tests('c3', data_c3_r)"
   ]
  },
  {
   "cell_type": "code",
   "execution_count": 30,
   "metadata": {},
   "outputs": [
    {
     "data": {
      "text/plain": [
       "array([[0.49999375],\n",
       "       [0.50013734],\n",
       "       [0.49998104],\n",
       "       ...,\n",
       "       [1.        ],\n",
       "       [0.49999042],\n",
       "       [0.49998402]])"
      ]
     },
     "execution_count": 30,
     "metadata": {},
     "output_type": "execute_result"
    }
   ],
   "source": [
    "#scaling data in c3 column\n",
    "scaler = MinMaxScaler(feature_range=(0,1))\n",
    "arr= pd.to_numeric(data_c3_r['c3'])\n",
    "arr = arr.to_numpy()\n",
    "arr = arr.reshape(-1,1)\n",
    "scaled = scaler.fit_transform(arr)\n",
    "scaled"
   ]
  },
  {
   "cell_type": "code",
   "execution_count": 31,
   "metadata": {},
   "outputs": [],
   "source": [
    "scaled = scaled.flatten()\n",
    "se = pd.Series(scaled)\n",
    "data_c3_r['c3_new'] = se.values"
   ]
  },
  {
   "cell_type": "code",
   "execution_count": 32,
   "metadata": {},
   "outputs": [
    {
     "name": "stdout",
     "output_type": "stream",
     "text": [
      "Pearson's Correlation Test\n",
      "stat=-0.000, p=0.880\n",
      "Probably independent\n",
      "Spearman's Rank Correlation Test\n",
      "stat=-0.001, p=0.482\n",
      "Probably independent\n",
      "Kendall’s Rank Correlation Test\n",
      "stat=-0.001, p=0.482\n",
      "Probably independent\n"
     ]
    },
    {
     "name": "stderr",
     "output_type": "stream",
     "text": [
      "C:\\Users\\Maria Anatoliivna\\anaconda3\\lib\\site-packages\\scipy\\stats\\stats.py:4812: RuntimeWarning: overflow encountered in longlong_scalars\n",
      "  (2 * xtie * ytie) / m + x0 * y0 / (9 * m * (size - 2)))\n"
     ]
    }
   ],
   "source": [
    "correl_tests('c3_new', data_c3_r)"
   ]
  },
  {
   "cell_type": "markdown",
   "metadata": {},
   "source": [
    "So, we should drop this column from the dataset"
   ]
  },
  {
   "cell_type": "markdown",
   "metadata": {},
   "source": [
    "<h4 align='center'>c4</h4>"
   ]
  },
  {
   "cell_type": "code",
   "execution_count": 33,
   "metadata": {},
   "outputs": [
    {
     "name": "stdout",
     "output_type": "stream",
     "text": [
      "-0.876288    1\n",
      " 0.692955    1\n",
      " 1.017884    1\n",
      "-2.623874    1\n",
      "-4.183971    1\n",
      "            ..\n",
      "-0.734159    1\n",
      "-0.506208    1\n",
      " 1.873705    1\n",
      "-1.072168    1\n",
      "-0.003627    1\n",
      "Name: c4, Length: 900869, dtype: int64\n"
     ]
    },
    {
     "data": {
      "image/png": "[encoded data removed]",
      "text/plain": [
       "<Figure size 720x360 with 1 Axes>"
      ]
     },
     "metadata": {
      "needs_background": "light"
     },
     "output_type": "display_data"
    }
   ],
   "source": [
    "make_plot('c4','line')"
   ]
  },
  {
   "cell_type": "markdown",
   "metadata": {},
   "source": [
    "<p>Column c4 has only unique values</p>\n"
   ]
  },
  {
   "cell_type": "code",
   "execution_count": 34,
   "metadata": {},
   "outputs": [
    {
     "name": "stdout",
     "output_type": "stream",
     "text": [
      "Pearson's Correlation Test\n",
      "stat=-0.000, p=0.706\n",
      "Probably independent\n",
      "Spearman's Rank Correlation Test\n",
      "stat=0.000, p=0.997\n",
      "Probably independent\n",
      "Kendall’s Rank Correlation Test\n",
      "stat=0.000, p=0.997\n",
      "Probably independent\n"
     ]
    }
   ],
   "source": [
    "correl_tests('c4',data)"
   ]
  },
  {
   "cell_type": "code",
   "execution_count": 35,
   "metadata": {},
   "outputs": [
    {
     "data": {
      "text/plain": [
       "array([[0.99967491],\n",
       "       [0.15810445],\n",
       "       [0.99977446],\n",
       "       ...,\n",
       "       [0.9996163 ],\n",
       "       [0.99966864],\n",
       "       [0.99971852]])"
      ]
     },
     "execution_count": 35,
     "metadata": {},
     "output_type": "execute_result"
    }
   ],
   "source": [
    "#scaling data in c4 column\n",
    "data_c4 = data.copy()\n",
    "scaler = MinMaxScaler(feature_range=(0,1))\n",
    "arr= pd.to_numeric(data_c4['c4'])\n",
    "arr = arr.to_numpy()\n",
    "arr = arr.reshape(-1,1)\n",
    "scaled = scaler.fit_transform(arr)\n",
    "scaled"
   ]
  },
  {
   "cell_type": "code",
   "execution_count": 36,
   "metadata": {},
   "outputs": [],
   "source": [
    "#convert scaled array to 1d array and add new column\n",
    "scaled = scaled.flatten()\n",
    "se = pd.Series(scaled)\n",
    "data_c4['c4_new'] = se.values"
   ]
  },
  {
   "cell_type": "code",
   "execution_count": 37,
   "metadata": {},
   "outputs": [
    {
     "name": "stdout",
     "output_type": "stream",
     "text": [
      "Pearson's Correlation Test\n",
      "stat=-0.000, p=0.706\n",
      "Probably independent\n",
      "Spearman's Rank Correlation Test\n",
      "stat=0.000, p=0.997\n",
      "Probably independent\n",
      "Kendall’s Rank Correlation Test\n",
      "stat=0.000, p=0.997\n",
      "Probably independent\n"
     ]
    }
   ],
   "source": [
    "correl_tests('c4_new', data_c4)"
   ]
  },
  {
   "cell_type": "markdown",
   "metadata": {},
   "source": [
    "<h4 align='center'>c5</h4>"
   ]
  },
  {
   "cell_type": "code",
   "execution_count": 38,
   "metadata": {},
   "outputs": [
    {
     "name": "stdout",
     "output_type": "stream",
     "text": [
      "f     113128\n",
      "w     112872\n",
      "fr    112677\n",
      "d     112637\n",
      "a     112527\n",
      "qw    112512\n",
      "ew    112511\n",
      "sd    112005\n",
      "Name: c5, dtype: int64\n"
     ]
    },
    {
     "data": {
      "image/png": "[encoded data removed]",
      "text/plain": [
       "<Figure size 720x360 with 1 Axes>"
      ]
     },
     "metadata": {
      "needs_background": "light"
     },
     "output_type": "display_data"
    }
   ],
   "source": [
    "make_plot('c5')"
   ]
  },
  {
   "cell_type": "code",
   "execution_count": 39,
   "metadata": {},
   "outputs": [
    {
     "data": {
      "text/plain": [
       "array([0, 1, 2, ..., 3, 7, 0], dtype=int64)"
      ]
     },
     "execution_count": 39,
     "metadata": {},
     "output_type": "execute_result"
    }
   ],
   "source": [
    "#convert str data into numerical\n",
    "lst = pd.factorize(data['c5'])[0]\n",
    "arr = np.array(lst)\n",
    "arr"
   ]
  },
  {
   "cell_type": "code",
   "execution_count": 40,
   "metadata": {},
   "outputs": [],
   "source": [
    "#normalize array data\n",
    "norm = np.linalg.norm(arr)\n",
    "normal_array = arr/norm"
   ]
  },
  {
   "cell_type": "code",
   "execution_count": 41,
   "metadata": {},
   "outputs": [
    {
     "name": "stdout",
     "output_type": "stream",
     "text": [
      "Pearson's Correlation Test\n",
      "stat=-0.000, p=0.954\n",
      "Probably independent\n",
      "Spearman's Rank Correlation Test\n",
      "stat=-0.000, p=0.954\n",
      "Probably independent\n",
      "Kendall’s Rank Correlation Test\n",
      "stat=-0.000, p=0.954\n",
      "Probably independent\n"
     ]
    },
    {
     "name": "stderr",
     "output_type": "stream",
     "text": [
      "C:\\Users\\Maria Anatoliivna\\anaconda3\\lib\\site-packages\\scipy\\stats\\stats.py:4812: RuntimeWarning: overflow encountered in longlong_scalars\n",
      "  (2 * xtie * ytie) / m + x0 * y0 / (9 * m * (size - 2)))\n"
     ]
    }
   ],
   "source": [
    "correl_tests('c5', data, normal_array)"
   ]
  },
  {
   "cell_type": "markdown",
   "metadata": {},
   "source": [
    "<h4 align='center'>c6</h4>"
   ]
  },
  {
   "cell_type": "code",
   "execution_count": 42,
   "metadata": {},
   "outputs": [
    {
     "name": "stdout",
     "output_type": "stream",
     "text": [
      "0.0    530414\n",
      "1.0    290444\n",
      "_       80011\n",
      "Name: c6, dtype: int64\n"
     ]
    },
    {
     "data": {
      "image/png": "[encoded data removed]",
      "text/plain": [
       "<Figure size 720x360 with 1 Axes>"
      ]
     },
     "metadata": {
      "needs_background": "light"
     },
     "output_type": "display_data"
    }
   ],
   "source": [
    "make_plot('c6')"
   ]
  },
  {
   "cell_type": "code",
   "execution_count": 43,
   "metadata": {},
   "outputs": [],
   "source": [
    "data_c6 = data.drop(data.loc[data['c6']=='_'].index)\n"
   ]
  },
  {
   "cell_type": "code",
   "execution_count": 44,
   "metadata": {},
   "outputs": [
    {
     "name": "stdout",
     "output_type": "stream",
     "text": [
      "Pearson's Correlation Test\n",
      "stat=0.502, p=0.000\n",
      "Probably dependent\n",
      "Spearman's Rank Correlation Test\n",
      "stat=0.502, p=0.000\n",
      "Probably dependent\n",
      "Kendall’s Rank Correlation Test\n",
      "stat=0.502, p=0.000\n",
      "Probably dependent\n"
     ]
    },
    {
     "name": "stderr",
     "output_type": "stream",
     "text": [
      "C:\\Users\\Maria Anatoliivna\\anaconda3\\lib\\site-packages\\scipy\\stats\\stats.py:4812: RuntimeWarning: overflow encountered in longlong_scalars\n",
      "  (2 * xtie * ytie) / m + x0 * y0 / (9 * m * (size - 2)))\n"
     ]
    }
   ],
   "source": [
    "correl_tests('c6',data_c6)"
   ]
  },
  {
   "cell_type": "markdown",
   "metadata": {},
   "source": [
    "<h4 align='center'>c7</h4>"
   ]
  },
  {
   "cell_type": "code",
   "execution_count": 45,
   "metadata": {},
   "outputs": [
    {
     "name": "stdout",
     "output_type": "stream",
     "text": [
      "4.0    219997\n",
      "1.0    200601\n",
      "_      200260\n",
      "3.0    140451\n",
      "2.0    139560\n",
      "Name: c7, dtype: int64\n"
     ]
    },
    {
     "data": {
      "image/png": "[encoded data removed]",
      "text/plain": [
       "<Figure size 720x360 with 1 Axes>"
      ]
     },
     "metadata": {
      "needs_background": "light"
     },
     "output_type": "display_data"
    }
   ],
   "source": [
    "make_plot('c7')"
   ]
  },
  {
   "cell_type": "code",
   "execution_count": 46,
   "metadata": {},
   "outputs": [],
   "source": [
    "data_c7 = data.drop(data.loc[data['c7']=='_'].index)\n"
   ]
  },
  {
   "cell_type": "code",
   "execution_count": 47,
   "metadata": {},
   "outputs": [
    {
     "name": "stdout",
     "output_type": "stream",
     "text": [
      "Pearson's Correlation Test\n",
      "stat=0.069, p=0.000\n",
      "Probably dependent\n",
      "Spearman's Rank Correlation Test\n",
      "stat=0.075, p=0.000\n",
      "Probably dependent\n",
      "Kendall’s Rank Correlation Test\n",
      "stat=0.069, p=0.000\n",
      "Probably dependent\n"
     ]
    },
    {
     "name": "stderr",
     "output_type": "stream",
     "text": [
      "C:\\Users\\Maria Anatoliivna\\anaconda3\\lib\\site-packages\\scipy\\stats\\stats.py:4812: RuntimeWarning: overflow encountered in longlong_scalars\n",
      "  (2 * xtie * ytie) / m + x0 * y0 / (9 * m * (size - 2)))\n"
     ]
    }
   ],
   "source": [
    "correl_tests('c7',data_c7)"
   ]
  },
  {
   "cell_type": "code",
   "execution_count": 48,
   "metadata": {},
   "outputs": [],
   "source": [
    "data_c7_r = data.copy()\n",
    "data_c7_r['c7'].replace({\"_\": 9999.0}, inplace=True)\n",
    "#scaling data in c7 column\n",
    "scaler = MinMaxScaler(feature_range=(0,1))\n",
    "arr= pd.to_numeric(data_c7_r['c7'])\n",
    "arr = arr.to_numpy()\n",
    "arr = arr.reshape(-1,1)\n",
    "scaled = scaler.fit_transform(arr)\n",
    "scaled = scaled.flatten()\n",
    "se = pd.Series(scaled)\n",
    "data_c7_r['c7_new'] = se.values"
   ]
  },
  {
   "cell_type": "code",
   "execution_count": 49,
   "metadata": {},
   "outputs": [
    {
     "name": "stdout",
     "output_type": "stream",
     "text": [
      "Pearson's Correlation Test\n",
      "stat=0.100, p=0.000\n",
      "Probably dependent\n",
      "Spearman's Rank Correlation Test\n",
      "stat=0.116, p=0.000\n",
      "Probably dependent\n",
      "Kendall’s Rank Correlation Test\n",
      "stat=0.104, p=0.000\n",
      "Probably dependent\n"
     ]
    },
    {
     "name": "stderr",
     "output_type": "stream",
     "text": [
      "C:\\Users\\Maria Anatoliivna\\anaconda3\\lib\\site-packages\\scipy\\stats\\stats.py:4812: RuntimeWarning: overflow encountered in longlong_scalars\n",
      "  (2 * xtie * ytie) / m + x0 * y0 / (9 * m * (size - 2)))\n"
     ]
    }
   ],
   "source": [
    "correl_tests('c7_new',data_c7_r)"
   ]
  },
  {
   "cell_type": "markdown",
   "metadata": {},
   "source": [
    "<h4 align='center'>c8</h4>"
   ]
  },
  {
   "cell_type": "code",
   "execution_count": 50,
   "metadata": {},
   "outputs": [
    {
     "name": "stdout",
     "output_type": "stream",
     "text": [
      "0.0     410271\n",
      "1.0     210522\n",
      "-1.0     99912\n",
      "_        90217\n",
      "-inf     69785\n",
      "inf      20162\n",
      "Name: c8, dtype: int64\n"
     ]
    },
    {
     "data": {
      "image/png": "[encoded data removed]",
      "text/plain": [
       "<Figure size 720x360 with 1 Axes>"
      ]
     },
     "metadata": {
      "needs_background": "light"
     },
     "output_type": "display_data"
    }
   ],
   "source": [
    "make_plot('c8')"
   ]
  },
  {
   "cell_type": "code",
   "execution_count": 51,
   "metadata": {},
   "outputs": [
    {
     "data": {
      "text/plain": [
       "0.0     410271\n",
       "1.0     210522\n",
       "-1.0     99912\n",
       "Name: c8, dtype: int64"
      ]
     },
     "execution_count": 51,
     "metadata": {},
     "output_type": "execute_result"
    }
   ],
   "source": [
    "data_c8 = data.drop(data.loc[data['c8']=='_'].index)\n",
    "inf_filt = (data_c8['c8'] != 'inf') & (data_c8['c8']!='-inf')\n",
    "data_c8= data_c8.loc[inf_filt]\n",
    "data_c8['c8'].value_counts()"
   ]
  },
  {
   "cell_type": "code",
   "execution_count": 52,
   "metadata": {},
   "outputs": [
    {
     "name": "stdout",
     "output_type": "stream",
     "text": [
      "Pearson's Correlation Test\n",
      "stat=-0.651, p=0.000\n",
      "Probably dependent\n",
      "Spearman's Rank Correlation Test\n",
      "stat=-0.621, p=0.000\n",
      "Probably dependent\n",
      "Kendall’s Rank Correlation Test\n",
      "stat=-0.595, p=0.000\n",
      "Probably dependent\n"
     ]
    },
    {
     "name": "stderr",
     "output_type": "stream",
     "text": [
      "C:\\Users\\Maria Anatoliivna\\anaconda3\\lib\\site-packages\\scipy\\stats\\stats.py:4812: RuntimeWarning: overflow encountered in longlong_scalars\n",
      "  (2 * xtie * ytie) / m + x0 * y0 / (9 * m * (size - 2)))\n"
     ]
    }
   ],
   "source": [
    "correl_tests('c8', data_c8)"
   ]
  },
  {
   "cell_type": "code",
   "execution_count": 53,
   "metadata": {},
   "outputs": [
    {
     "data": {
      "text/plain": [
       "0.0                    410271\n",
       "1.0                    210522\n",
       "-1.0                    99912\n",
       "0.15347472266738818     90217\n",
       "-9999.0                 69785\n",
       "9999.0                  20162\n",
       "Name: c8, dtype: int64"
      ]
     },
     "execution_count": 53,
     "metadata": {},
     "output_type": "execute_result"
    }
   ],
   "source": [
    "col_mean = pd.to_numeric(data_c8['c8']).mean()\n",
    "col_mean\n",
    "data_c8_r = data.copy()\n",
    "data_c8_r['c8'].replace({\"-inf\": -9999.0, \"inf\": 9999.0, \"_\": col_mean}, inplace=True)\n",
    "data_c8_r['c8'].value_counts()"
   ]
  },
  {
   "cell_type": "code",
   "execution_count": 54,
   "metadata": {},
   "outputs": [
    {
     "name": "stdout",
     "output_type": "stream",
     "text": [
      "Pearson's Correlation Test\n",
      "stat=0.268, p=0.000\n",
      "Probably dependent\n",
      "Spearman's Rank Correlation Test\n",
      "stat=-0.274, p=0.000\n",
      "Probably dependent\n",
      "Kendall’s Rank Correlation Test\n",
      "stat=-0.251, p=0.000\n",
      "Probably dependent\n"
     ]
    }
   ],
   "source": [
    "correl_tests('c8', data_c8_r)"
   ]
  },
  {
   "cell_type": "markdown",
   "metadata": {},
   "source": [
    "<h4 align='center'>c9</h4>"
   ]
  },
  {
   "cell_type": "code",
   "execution_count": 55,
   "metadata": {},
   "outputs": [
    {
     "name": "stdout",
     "output_type": "stream",
     "text": [
      "_                      90217\n",
      "-inf                   69785\n",
      "inf                    20162\n",
      "-1.4022953844807486        1\n",
      "-2.611484478944758         1\n",
      "                       ...  \n",
      "-0.2196693847000153        1\n",
      "0.7553389739328342         1\n",
      "-4.067226508015141         1\n",
      "-0.98355215475623          1\n",
      "-1.8913900139639952        1\n",
      "Name: c9, Length: 720708, dtype: int64\n"
     ]
    },
    {
     "data": {
      "image/png": "[encoded data removed]",
      "text/plain": [
       "<Figure size 720x360 with 1 Axes>"
      ]
     },
     "metadata": {
      "needs_background": "light"
     },
     "output_type": "display_data"
    }
   ],
   "source": [
    "make_plot('c9', 'line')"
   ]
  },
  {
   "cell_type": "code",
   "execution_count": 56,
   "metadata": {},
   "outputs": [
    {
     "data": {
      "text/plain": [
       "-1.4022953844807486     1\n",
       "-2.611484478944758      1\n",
       "-2.8438437046765377     1\n",
       "1.0874307557873788      1\n",
       "-0.21610818998772663    1\n",
       "                       ..\n",
       "-0.2196693847000153     1\n",
       "0.7553389739328342      1\n",
       "-4.067226508015141      1\n",
       "-0.98355215475623       1\n",
       "-1.8913900139639952     1\n",
       "Name: c9, Length: 720705, dtype: int64"
      ]
     },
     "execution_count": 56,
     "metadata": {},
     "output_type": "execute_result"
    }
   ],
   "source": [
    "data_c9 = data.drop(data.loc[data['c9']=='_'].index)\n",
    "inf_filt = (data_c9['c9'] != 'inf') & (data_c9['c9']!='-inf')\n",
    "data_c9= data_c9.loc[inf_filt]\n",
    "data_c9['c9'].value_counts()"
   ]
  },
  {
   "cell_type": "code",
   "execution_count": 57,
   "metadata": {},
   "outputs": [
    {
     "name": "stdout",
     "output_type": "stream",
     "text": [
      "Pearson's Correlation Test\n",
      "stat=-0.289, p=0.000\n",
      "Probably dependent\n",
      "Spearman's Rank Correlation Test\n",
      "stat=-0.272, p=0.000\n",
      "Probably dependent\n",
      "Kendall’s Rank Correlation Test\n",
      "stat=-0.222, p=0.000\n",
      "Probably dependent\n"
     ]
    }
   ],
   "source": [
    "correl_tests('c9', data_c9)"
   ]
  },
  {
   "cell_type": "code",
   "execution_count": 58,
   "metadata": {},
   "outputs": [
    {
     "data": {
      "text/plain": [
       "array([[0.44937109],\n",
       "       [0.24267668],\n",
       "       [0.518375  ],\n",
       "       ...,\n",
       "       [0.65716557],\n",
       "       [0.83762845],\n",
       "       [0.38802392]])"
      ]
     },
     "execution_count": 58,
     "metadata": {},
     "output_type": "execute_result"
    }
   ],
   "source": [
    "#scaling data in c9 column\n",
    "scaler = MinMaxScaler(feature_range=(0,1))\n",
    "arr= pd.to_numeric(data_c9['c9'])\n",
    "arr = arr.to_numpy()\n",
    "arr = arr.reshape(-1,1)\n",
    "scaled = scaler.fit_transform(arr)\n",
    "scaled"
   ]
  },
  {
   "cell_type": "code",
   "execution_count": 59,
   "metadata": {},
   "outputs": [],
   "source": [
    "#convert scaled array to 1d array and add new column\n",
    "scaled = scaled.flatten()\n",
    "se = pd.Series(scaled)\n",
    "data_c9['c9_new'] = se.values"
   ]
  },
  {
   "cell_type": "code",
   "execution_count": 60,
   "metadata": {},
   "outputs": [
    {
     "name": "stdout",
     "output_type": "stream",
     "text": [
      "Pearson's Correlation Test\n",
      "stat=-0.289, p=0.000\n",
      "Probably dependent\n",
      "Spearman's Rank Correlation Test\n",
      "stat=-0.272, p=0.000\n",
      "Probably dependent\n",
      "Kendall’s Rank Correlation Test\n",
      "stat=-0.222, p=0.000\n",
      "Probably dependent\n"
     ]
    }
   ],
   "source": [
    "correl_tests('c9_new', data_c9)"
   ]
  },
  {
   "cell_type": "code",
   "execution_count": 61,
   "metadata": {},
   "outputs": [
    {
     "name": "stdout",
     "output_type": "stream",
     "text": [
      "Pearson's Correlation Test\n",
      "stat=0.268, p=0.000\n",
      "Probably dependent\n",
      "Spearman's Rank Correlation Test\n",
      "stat=-0.066, p=0.000\n",
      "Probably dependent\n",
      "Kendall’s Rank Correlation Test\n"
     ]
    },
    {
     "name": "stderr",
     "output_type": "stream",
     "text": [
      "C:\\Users\\Maria Anatoliivna\\anaconda3\\lib\\site-packages\\scipy\\stats\\stats.py:4812: RuntimeWarning: overflow encountered in longlong_scalars\n",
      "  (2 * xtie * ytie) / m + x0 * y0 / (9 * m * (size - 2)))\n"
     ]
    },
    {
     "name": "stdout",
     "output_type": "stream",
     "text": [
      "stat=-0.054, p=0.000\n",
      "Probably dependent\n"
     ]
    },
    {
     "data": {
      "text/plain": [
       "-0.8469089109433051    90217\n",
       "-9999.0                69785\n",
       "9999.0                 20162\n",
       "-1.4022953844807486        1\n",
       "-2.611484478944758         1\n",
       "                       ...  \n",
       "-0.2196693847000153        1\n",
       "0.7553389739328342         1\n",
       "-4.067226508015141         1\n",
       "-0.98355215475623          1\n",
       "-1.8913900139639952        1\n",
       "Name: c9, Length: 720708, dtype: int64"
      ]
     },
     "execution_count": 61,
     "metadata": {},
     "output_type": "execute_result"
    }
   ],
   "source": [
    "data_c9_r = data.copy()\n",
    "col_mean = pd.to_numeric(data_c9['c9']).mean()\n",
    "data_c9_r['c9'].replace({\"_\": col_mean, \"inf\": 9999.0, \"-inf\": -9999.0}, inplace=True)\n",
    "correl_tests('c9', data_c9_r)\n",
    "data_c9_r['c9'].value_counts()"
   ]
  },
  {
   "cell_type": "markdown",
   "metadata": {},
   "source": [
    "<h4 align='center'>c10</h4>"
   ]
  },
  {
   "cell_type": "code",
   "execution_count": 62,
   "metadata": {},
   "outputs": [
    {
     "name": "stdout",
     "output_type": "stream",
     "text": [
      "996.8002935258253     1\n",
      "999.893508333398      1\n",
      "995.6928385739434     1\n",
      "1000.6259995023979    1\n",
      "1000.2294345207205    1\n",
      "                     ..\n",
      "997.0389832404381     1\n",
      "998.7878049085126     1\n",
      "996.980482706664      1\n",
      "997.093209727735      1\n",
      "999.6925599702948     1\n",
      "Name: c10, Length: 900869, dtype: int64\n"
     ]
    },
    {
     "data": {
      "image/png": "[encoded data removed]",
      "text/plain": [
       "<Figure size 720x360 with 1 Axes>"
      ]
     },
     "metadata": {
      "needs_background": "light"
     },
     "output_type": "display_data"
    }
   ],
   "source": [
    "make_plot('c10', 'line')\n"
   ]
  },
  {
   "cell_type": "code",
   "execution_count": 63,
   "metadata": {},
   "outputs": [
    {
     "name": "stdout",
     "output_type": "stream",
     "text": [
      "Pearson's Correlation Test\n",
      "stat=0.307, p=0.000\n",
      "Probably dependent\n",
      "Spearman's Rank Correlation Test\n",
      "stat=0.288, p=0.000\n",
      "Probably dependent\n",
      "Kendall’s Rank Correlation Test\n",
      "stat=0.235, p=0.000\n",
      "Probably dependent\n"
     ]
    }
   ],
   "source": [
    "correl_tests('c10',data)"
   ]
  },
  {
   "cell_type": "code",
   "execution_count": 64,
   "metadata": {},
   "outputs": [],
   "source": [
    "#scaling data in c10 column\n",
    "data_c10 = data.copy()\n",
    "scaler = MinMaxScaler(feature_range=(0,1))\n",
    "arr= pd.to_numeric(data_c10['c10'])\n",
    "arr = arr.to_numpy()\n",
    "arr = arr.reshape(-1,1)\n",
    "scaled = scaler.fit_transform(arr)\n",
    "#convert scaled array to 1d array and add new column\n",
    "scaled = scaled.flatten()\n",
    "se = pd.Series(scaled)\n",
    "data_c10['10'] = se.values\n"
   ]
  },
  {
   "cell_type": "code",
   "execution_count": 65,
   "metadata": {},
   "outputs": [
    {
     "name": "stdout",
     "output_type": "stream",
     "text": [
      "Pearson's Correlation Test\n",
      "stat=0.307, p=0.000\n",
      "Probably dependent\n",
      "Spearman's Rank Correlation Test\n",
      "stat=0.288, p=0.000\n",
      "Probably dependent\n",
      "Kendall’s Rank Correlation Test\n",
      "stat=0.235, p=0.000\n",
      "Probably dependent\n"
     ]
    }
   ],
   "source": [
    "correl_tests('c10',data_c10)"
   ]
  },
  {
   "cell_type": "markdown",
   "metadata": {},
   "source": [
    "<h4 align='center'>c11</h4>"
   ]
  },
  {
   "cell_type": "code",
   "execution_count": 66,
   "metadata": {},
   "outputs": [
    {
     "name": "stdout",
     "output_type": "stream",
     "text": [
      "2019-08-03    3348\n",
      "2019-09-15    3314\n",
      "2019-03-18    3306\n",
      "2019-06-16    3287\n",
      "2019-12-29    3281\n",
      "              ... \n",
      "2019-08-09    1824\n",
      "2019-07-10    1818\n",
      "2019-12-31    1817\n",
      "2019-08-06    1812\n",
      "2019-11-26    1812\n",
      "Name: c11, Length: 367, dtype: int64\n"
     ]
    },
    {
     "data": {
      "image/png": "[encoded data removed]",
      "text/plain": [
       "<Figure size 720x360 with 1 Axes>"
      ]
     },
     "metadata": {
      "needs_background": "light"
     },
     "output_type": "display_data"
    }
   ],
   "source": [
    "make_plot('c11', 'line')"
   ]
  },
  {
   "cell_type": "code",
   "execution_count": 67,
   "metadata": {},
   "outputs": [
    {
     "name": "stdout",
     "output_type": "stream",
     "text": [
      "(897773, 14)\n"
     ]
    },
    {
     "data": {
      "text/plain": [
       "array([0.00000e+00, 1.00000e+00, 2.00000e+00, ..., 9.99997e+05,\n",
       "       9.99998e+05, 9.99999e+05])"
      ]
     },
     "execution_count": 67,
     "metadata": {},
     "output_type": "execute_result"
    }
   ],
   "source": [
    "data_c11 = data.drop(data.loc[data['c11']=='_'].index)\n",
    "print(data_c11.shape)\n",
    "data_c11['c11'] = pd.to_datetime(data_c11['c11'])\n",
    "data_c11_1 = data_c11.set_index('c11')\n",
    "data_c11_1=data['c11'].index.values.astype(float)\n",
    "data_c11_1"
   ]
  },
  {
   "cell_type": "code",
   "execution_count": 84,
   "metadata": {},
   "outputs": [
    {
     "name": "stdout",
     "output_type": "stream",
     "text": [
      "(897773, 14)\n"
     ]
    },
    {
     "data": {
      "text/plain": [
       "0.000000    1\n",
       "0.666405    1\n",
       "0.666393    1\n",
       "0.666394    1\n",
       "0.666395    1\n",
       "           ..\n",
       "0.333174    1\n",
       "0.333176    1\n",
       "0.333177    1\n",
       "0.333179    1\n",
       "1.000000    1\n",
       "Name: c11_new, Length: 900869, dtype: int64"
      ]
     },
     "execution_count": 84,
     "metadata": {},
     "output_type": "execute_result"
    }
   ],
   "source": [
    "scaler = MinMaxScaler(feature_range=(0,1))\n",
    "arr = data_c11_1.reshape(-1,1)\n",
    "scaled = scaler.fit_transform(arr)\n",
    "scaled = scaled.flatten()\n",
    "se = pd.Series(scaled)\n",
    "data_c11_new = data.copy()\n",
    "print(data_c11.shape)\n",
    "data_c11_new['c11_new'] = se.values\n",
    "data_c11_new['c11_new'].value_counts()\n"
   ]
  },
  {
   "cell_type": "code",
   "execution_count": 85,
   "metadata": {},
   "outputs": [
    {
     "name": "stdout",
     "output_type": "stream",
     "text": [
      "Pearson's Correlation Test\n",
      "stat=0.001, p=0.537\n",
      "Probably independent\n",
      "Spearman's Rank Correlation Test\n",
      "stat=0.001, p=0.537\n",
      "Probably independent\n",
      "Kendall’s Rank Correlation Test\n",
      "stat=0.001, p=0.537\n",
      "Probably independent\n"
     ]
    }
   ],
   "source": [
    "correl_tests('c11_new',data_c11_new)"
   ]
  },
  {
   "cell_type": "markdown",
   "metadata": {},
   "source": [
    "<h4 align='center'>c12</h4>"
   ]
  },
  {
   "cell_type": "code",
   "execution_count": 69,
   "metadata": {},
   "outputs": [
    {
     "name": "stdout",
     "output_type": "stream",
     "text": [
      "dd     124115\n",
      "yy     106141\n",
      "aa     106022\n",
      "ee     105928\n",
      "_      105686\n",
      "qq     105664\n",
      "ww     105339\n",
      "cc     105219\n",
      "rr      18520\n",
      "tty     18235\n",
      "Name: c12, dtype: int64\n"
     ]
    },
    {
     "data": {
      "image/png": "[encoded data removed]",
      "text/plain": [
       "<Figure size 720x360 with 1 Axes>"
      ]
     },
     "metadata": {
      "needs_background": "light"
     },
     "output_type": "display_data"
    }
   ],
   "source": [
    "make_plot('c12')"
   ]
  },
  {
   "cell_type": "code",
   "execution_count": 70,
   "metadata": {},
   "outputs": [
    {
     "data": {
      "text/plain": [
       "dd     124115\n",
       "yy     106141\n",
       "aa     106022\n",
       "ee     105928\n",
       "qq     105664\n",
       "ww     105339\n",
       "cc     105219\n",
       "rr      18520\n",
       "tty     18235\n",
       "Name: c12, dtype: int64"
      ]
     },
     "execution_count": 70,
     "metadata": {},
     "output_type": "execute_result"
    }
   ],
   "source": [
    "data_c12 = data.drop(data.loc[data['c12']=='_'].index)\n",
    "data_c12['c12'].value_counts()"
   ]
  },
  {
   "cell_type": "code",
   "execution_count": 71,
   "metadata": {},
   "outputs": [
    {
     "data": {
      "text/plain": [
       "array([0, 1, 2, ..., 4, 0, 6], dtype=int64)"
      ]
     },
     "execution_count": 71,
     "metadata": {},
     "output_type": "execute_result"
    }
   ],
   "source": [
    "#convert str data into numerical\n",
    "lst = pd.factorize(data_c12['c12'])[0]\n",
    "arr = np.array(lst)\n",
    "arr"
   ]
  },
  {
   "cell_type": "code",
   "execution_count": 72,
   "metadata": {},
   "outputs": [],
   "source": [
    "#normalize array data\n",
    "norm = np.linalg.norm(arr)\n",
    "normal_array = arr/norm"
   ]
  },
  {
   "cell_type": "code",
   "execution_count": 73,
   "metadata": {},
   "outputs": [
    {
     "name": "stdout",
     "output_type": "stream",
     "text": [
      "Pearson's Correlation Test\n",
      "stat=0.178, p=0.000\n",
      "Probably dependent\n",
      "Spearman's Rank Correlation Test\n",
      "stat=0.149, p=0.000\n",
      "Probably dependent\n",
      "Kendall’s Rank Correlation Test\n",
      "stat=0.129, p=0.000\n",
      "Probably dependent\n"
     ]
    },
    {
     "name": "stderr",
     "output_type": "stream",
     "text": [
      "C:\\Users\\Maria Anatoliivna\\anaconda3\\lib\\site-packages\\scipy\\stats\\stats.py:4812: RuntimeWarning: overflow encountered in longlong_scalars\n",
      "  (2 * xtie * ytie) / m + x0 * y0 / (9 * m * (size - 2)))\n"
     ]
    }
   ],
   "source": [
    "#execute correlation tests\n",
    "correl_tests('c12', data_c12, normal_array)\n"
   ]
  },
  {
   "cell_type": "code",
   "execution_count": 74,
   "metadata": {},
   "outputs": [
    {
     "data": {
      "text/plain": [
       "0.000714    111993\n",
       "0.001666     95622\n",
       "0.001428     95439\n",
       "0.000476     95434\n",
       "0.000952     95229\n",
       "0.000000     95110\n",
       "0.001190     94948\n",
       "0.000238     94783\n",
       "0.001904     16681\n",
       "0.002142     16469\n",
       "Name: c12, dtype: int64"
      ]
     },
     "execution_count": 74,
     "metadata": {},
     "output_type": "execute_result"
    }
   ],
   "source": [
    "#new normalized numerical column from c12\n",
    "data_c12_r = data.copy()\n",
    "lst = pd.factorize(data_c12_r['c12'])[0]\n",
    "arr = np.array(lst)\n",
    "norm = np.linalg.norm(arr)\n",
    "normal_array = arr/norm\n",
    "normal_array\n",
    "data_c12_r['c12'] = pd.DataFrame(normal_array, columns = ['c12'])\n",
    "data_c12_r['c12'].value_counts()"
   ]
  },
  {
   "cell_type": "code",
   "execution_count": 75,
   "metadata": {},
   "outputs": [
    {
     "data": {
      "text/plain": [
       "89161"
      ]
     },
     "execution_count": 75,
     "metadata": {},
     "output_type": "execute_result"
    }
   ],
   "source": [
    "data_c12_r['c12'].isna().sum()"
   ]
  },
  {
   "cell_type": "markdown",
   "metadata": {},
   "source": [
    "<h4 align='center'>c13</h4>"
   ]
  },
  {
   "cell_type": "code",
   "execution_count": 76,
   "metadata": {},
   "outputs": [
    {
     "name": "stdout",
     "output_type": "stream",
     "text": [
      "y    90490\n",
      "r    90327\n",
      "u    90138\n",
      "e    90133\n",
      "i    90102\n",
      "w    90094\n",
      "t    90014\n",
      "p    89996\n",
      "o    89858\n",
      "q    89717\n",
      "Name: c13, dtype: int64\n"
     ]
    },
    {
     "data": {
      "image/png": "[encoded data removed]",
      "text/plain": [
       "<Figure size 720x360 with 1 Axes>"
      ]
     },
     "metadata": {
      "needs_background": "light"
     },
     "output_type": "display_data"
    }
   ],
   "source": [
    "make_plot('c13')"
   ]
  },
  {
   "cell_type": "code",
   "execution_count": 77,
   "metadata": {},
   "outputs": [
    {
     "data": {
      "text/plain": [
       "array([0, 1, 2, ..., 8, 1, 3], dtype=int64)"
      ]
     },
     "execution_count": 77,
     "metadata": {},
     "output_type": "execute_result"
    }
   ],
   "source": [
    "#convert str data into numerical\n",
    "lst = pd.factorize(data['c13'])[0]\n",
    "arr = np.array(lst)\n",
    "arr"
   ]
  },
  {
   "cell_type": "code",
   "execution_count": 78,
   "metadata": {},
   "outputs": [],
   "source": [
    "#normalize array data\n",
    "norm = np.linalg.norm(arr)\n",
    "normal_array = arr/norm"
   ]
  },
  {
   "cell_type": "code",
   "execution_count": 79,
   "metadata": {},
   "outputs": [
    {
     "name": "stdout",
     "output_type": "stream",
     "text": [
      "Pearson's Correlation Test\n",
      "stat=-0.002, p=0.040\n",
      "Probably dependent\n",
      "Spearman's Rank Correlation Test\n",
      "stat=-0.002, p=0.040\n",
      "Probably dependent\n",
      "Kendall’s Rank Correlation Test\n",
      "stat=-0.002, p=0.040\n",
      "Probably dependent\n"
     ]
    },
    {
     "name": "stderr",
     "output_type": "stream",
     "text": [
      "C:\\Users\\Maria Anatoliivna\\anaconda3\\lib\\site-packages\\scipy\\stats\\stats.py:4812: RuntimeWarning: overflow encountered in longlong_scalars\n",
      "  (2 * xtie * ytie) / m + x0 * y0 / (9 * m * (size - 2)))\n"
     ]
    }
   ],
   "source": [
    "correl_tests('c13', data, normal_array)"
   ]
  },
  {
   "cell_type": "code",
   "execution_count": 80,
   "metadata": {},
   "outputs": [],
   "source": [
    "#new normalized numerical column from c13\n",
    "data_c13_r = data.copy()\n",
    "lst = pd.factorize(data_c13_r['c13'])[0]\n",
    "arr = np.array(lst)\n",
    "norm = np.linalg.norm(arr)\n",
    "normal_array = arr/norm\n",
    "normal_array\n",
    "data_c13_r['c13'] = pd.DataFrame(normal_array, columns = ['c13'])\n"
   ]
  },
  {
   "cell_type": "markdown",
   "metadata": {},
   "source": [
    "<h1 align='center'>Conclusion</h1>\n",
    "<p>\n",
    "   <table align='center'>\n",
    "   <tr>\n",
    "    <th>Column name</th>\n",
    "    <th>Action</th>\n",
    "  </tr>\n",
    "  <tr>\n",
    "    <td>target</td>\n",
    "    <td>drop missing values</td>\n",
    "  </tr>\n",
    "  <tr>\n",
    "    <td>c1</td>\n",
    "    <td>drop column</td>\n",
    "  </tr>\n",
    "  <tr>\n",
    "    <td>c2</td>\n",
    "    <td>drop column</td>\n",
    "  </tr>\n",
    "    <tr>\n",
    "    <td>c3</td>\n",
    "    <td>drop column</td>\n",
    "  </tr>\n",
    "  <tr>\n",
    "    <td>c4</td>\n",
    "    <td>leave column</td>\n",
    "  </tr>\n",
    "  <tr>\n",
    "    <td>c5</td>\n",
    "    <td>drop column</td>\n",
    "  </tr>\n",
    "  <tr>\n",
    "    <td>c6</td>\n",
    "    <td>leave the column</td>\n",
    "  </tr>\n",
    "  <tr>\n",
    "    <td>c7</td>\n",
    "    <td>leave the column</td>\n",
    "  </tr>\n",
    "  <tr>\n",
    "    <td>c8</td>\n",
    "    <td>leave the column</td>\n",
    "  </tr>\n",
    "  <tr>\n",
    "    <td>c9</td>\n",
    "    <td>leave the column</td>\n",
    "  </tr>\n",
    "  <tr>\n",
    "    <td>c10</td>\n",
    "    <td>leave the column</td>\n",
    "  </tr>\n",
    "  <tr>\n",
    "    <td>c11</td>\n",
    "    <td>drop column</td>\n",
    "  </tr>\n",
    "    <tr>\n",
    "    <td>c12</td>\n",
    "    <td>replace text data column with the numerical</td>\n",
    "  </tr>\n",
    "  <tr>\n",
    "    <td>c13</td>\n",
    "    <td>replace text data column with the numerical</td>\n",
    "  </tr>\n",
    "   </table>\n"
   ]
  },
  {
   "cell_type": "markdown",
   "metadata": {},
   "source": [
    "</p>"
   ]
  },
  {
   "cell_type": "markdown",
   "metadata": {},
   "source": [
    "<h2 align='center'> Modified dataset</h2>"
   ]
  },
  {
   "cell_type": "code",
   "execution_count": 81,
   "metadata": {},
   "outputs": [],
   "source": [
    "#function for dropping columns\n",
    "def drop_col(col_name):\n",
    "    data.drop(col_name, axis=1, inplace=True)"
   ]
  },
  {
   "cell_type": "code",
   "execution_count": 82,
   "metadata": {},
   "outputs": [],
   "source": [
    "\n",
    "cols = ('c1', 'c2', 'c3', 'c5', 'c11',)\n",
    "for c in cols:\n",
    "    drop_col(c)"
   ]
  },
  {
   "cell_type": "code",
   "execution_count": 83,
   "metadata": {},
   "outputs": [
    {
     "data": {
      "image/png": "[encoded data removed]",
      "text/plain": [
       "<Figure size 432x288 with 2 Axes>"
      ]
     },
     "metadata": {
      "needs_background": "light"
     },
     "output_type": "display_data"
    }
   ],
   "source": [
    "data['c4'] = data_c4['c4_new'].copy()\n",
    "data['c6'].replace({\"_\": 9999.0}, inplace=True)\n",
    "data['c7'] = data_c7_r['c7_new'].copy()\n",
    "data['c8'] = data_c8_r['c8'].astype(float).copy()\n",
    "data['c9']= data_c9_r['c9'].astype(float).copy()\n",
    "data['c10'] = data_c10['10'].astype(float).copy()\n",
    "data['c12']= data_c12_r['c12'].copy()\n",
    "data['c13']= data_c13_r['c13'].copy()\n",
    "\n",
    "dataplot = sns.heatmap(data.corr(), cmap=\"YlGnBu\", annot=True)\n",
    "plt.show()"
   ]
  }
 ],
 "metadata": {
  "interpreter": {
   "hash": "05b06b2577aec5a1718ec10a350be88f90788b3f95005faa290c3ac2113ecd6a"
  },
  "kernelspec": {
   "display_name": "Python 3.10.0 64-bit",
   "language": "python",
   "name": "python3"
  },
  "language_info": {
   "codemirror_mode": {
    "name": "ipython",
    "version": 3
   },
   "file_extension": ".py",
   "mimetype": "text/x-python",
   "name": "python",
   "nbconvert_exporter": "python",
   "pygments_lexer": "ipython3",
   "version": "3.9.7"
  },
  "orig_nbformat": 4
 },
 "nbformat": 4,
 "nbformat_minor": 2
}
